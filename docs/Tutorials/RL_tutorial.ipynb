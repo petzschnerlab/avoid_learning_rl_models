{
 "cells": [
  {
   "cell_type": "markdown",
   "id": "503d3bae",
   "metadata": {},
   "source": [
    "<a target=\"_blank\" href=\"https://colab.research.google.com/github/petzschnerlab/avoid_learning_rl_models/blob/main/docs/Tutorials/RL_tutorial.ipynb\">\n",
    "  <img src=\"https://colab.research.google.com/assets/colab-badge.svg\" alt=\"Open In Colab\"/>\n",
    "</a>"
   ]
  },
  {
   "cell_type": "markdown",
   "id": "f4520c3d",
   "metadata": {},
   "source": [
    "\n",
    "# RL Modelling Tutorial\n",
    "\n",
    "Welcome to the avoidance learning reinforcement learning models repo. This repo was built for the PEAC lab to computationally model empirical data from the various avoidance learning tasks. This repo has the ability to fit RL models to empirical data and to validate these models through parameters and model recovery methods.  \n",
    "\n",
    "*Note that this tutorial is designed to run in Google Colab and not from the repo itself (since it clones the repo)*\n",
    "\n",
    "<b>Supported models</b><br>\n",
    "&nbsp;&nbsp;&nbsp;&nbsp;QLearning, ActorCritic<br>\n",
    "&nbsp;&nbsp;&nbsp;&nbsp;Relative, Advantage<br>\n",
    "&nbsp;&nbsp;&nbsp;&nbsp;Hybrid2012, Hybrid2021<br>\n",
    "&nbsp;&nbsp;&nbsp;&nbsp;StandardHybrid2012, StandardHybrid2021<br><br>\n",
    "\n",
    "<b>Standard models </b><br>\n",
    "Standard models as described in each corresponding citation, which introduces the model, with the addition of counterfactual learning rates.<br>\n",
    "Hybrid models have alternatives versions without counterfactual learning rates: StandardHybrid2012, StandardHybrid2021<br>\n",
    "&nbsp;&nbsp;&nbsp;&nbsp;<b>QLearning</b>: Standard Q-Learning Model<br>\n",
    "&nbsp;&nbsp;&nbsp;&nbsp;<b>ActorCritic</b>: Standard Actor-Critic Model<br>\n",
    "&nbsp;&nbsp;&nbsp;&nbsp;<b>Relative</b>: Standard Relative Model (Palminteri et al., 2015)<br>\n",
    "&nbsp;&nbsp;&nbsp;&nbsp;<b>Advantage</b>: Simplified Relative Model (Williams et al., 2025)<br>\n",
    "&nbsp;&nbsp;&nbsp;&nbsp;<b>Hybrid2012+bias</b>: Hybrid 2012 Model (Gold et al., 2012)<br>\n",
    "&nbsp;&nbsp;&nbsp;&nbsp;<b>Hybrid2021+bias+decay</b>: Hybrid 2021 Model (Geana et al., 2021)<br><br>\n",
    "\n",
    "<b>Optional Parameters</b><br>\n",
    "You can add optional parameters to models by adding them to the model name using a + sign<br>\n",
    "&nbsp;&nbsp;&nbsp;&nbsp;<b>+bias</b>: Adds a valence bias to the model (e.g. Hybrid2012+bias), only usable with Hybrid models<br>\n",
    "&nbsp;&nbsp;&nbsp;&nbsp;<b>+novel</b>: Adds a free parameter for the novel stimulus (e.g. QLearning+novel), useable with all models<br>\n",
    "&nbsp;&nbsp;&nbsp;&nbsp;<b>+decay</b>: Adds a decay parameter to the model (e.g. QLearning+decay), useable with all models\n",
    "\n",
    "## Project Pipeline\n",
    "This repo is one part of a project pipeline, which requires the coordination of multiple repos. Projects begin with a <b>task repo</b>, which is used to collect behavioural data from participants either locally or on Prolific. The collected data must then be pushed through a <b>data extraction repo</b> to prepare CSV files for analysis. These CSV files are used in <b>the analysis repo</b>, which creates a PDF report (`AL/reports`), ending the project pipeline. \n",
    "\n",
    "Optionally, you can run computational reinforcement learning models using the <b>modelling repo (this repo)</b>, and the results can be added to the report. This is a bit clunky because it requires a bit of back-and-forth between the analysis repo and this modelling repo. Specifically, the analysis repo must be run (with `load_models=False`) in order to create two CSV files that this repo needs (`AL/data/pain_learning_processed.csv` and `AL/data/pain_transfer_processed.csv`). These files can then be manually moved into this repo's data directory (`RL/data`). This repo can then be used to model the data, which will result in a newly constructed directory called `modelling` (`RL/modelling`). This folder can then be manually moved to the analysis repo as `AL/modelling`. Then you can re-run the analysis repo (with `load_models=True`) and the modelling results will be included in the PDF report. "
   ]
  },
  {
   "cell_type": "markdown",
   "id": "4702b22f",
   "metadata": {},
   "source": [
    "## Cloning the Repo\n",
    "\n",
    "We will begin by cloning the repo, installing dependencies, and then adding this repo as a system path. Adding the repo in the system path is only necessary for this tutorial. We also change directory to the repo. When using locally, you can create your script in the `AL` source folder, in the same manner as `AL_main.py` (`avoid_learning_analysis/AL/AL_main.py`)."
   ]
  },
  {
   "cell_type": "code",
   "execution_count": null,
   "id": "82c10e0f",
   "metadata": {},
   "outputs": [],
   "source": [
    "import sys\n",
    "import os\n",
    "\n",
    "# We will now clone the repo, pull any updates, and install dependencies\n",
    "!git clone https://github.com/petzschnerlab/avoid_learning_rl_models.git\n",
    "%cd avoid_learning_rl_models/\n",
    "!git pull\n",
    "!pip install .\n",
    "\n",
    "#Only necessary for Google Colab\n",
    "sys.path.insert(0, os.path.abspath(\"/content/avoid_learning_rl_models/RL\"))"
   ]
  },
  {
   "cell_type": "markdown",
   "id": "a2edb154",
   "metadata": {},
   "source": [
    "## The Pipeline\n",
    "\n",
    "Next, we will import the Pipeline class. This class is the entry point to this repo. It will take in all of your parameters and run the corresponding analyses."
   ]
  },
  {
   "cell_type": "code",
   "execution_count": null,
   "id": "3ead85be",
   "metadata": {},
   "outputs": [],
   "source": [
    "from helpers.pipeline import Pipeline"
   ]
  },
  {
   "cell_type": "markdown",
   "id": "7f88e700",
   "metadata": {},
   "source": [
    "### The Help Function\n",
    "\n",
    "The pipeline has a help function that will outline some information about the repo and then describe all of the parameters. These details are also available in the documentation. We will use the `help=True` parameters in order to see this help function below. \n",
    "\n",
    "This parameter can be passed to the Pipeline during initiatialization:\n",
    "```\n",
    "pipeline = Pipeline(help=True)\n",
    "```\n",
    "\n",
    "or to the pipeline run method of the class:\n",
    "```\n",
    "pipeline = Pipeline()\n",
    "pipeline.run(help=True)\n",
    "```\n",
    "\n",
    "The help information gets truncated in Jupyter notebooks, but you can view the whole output by clicking `scrollable element`."
   ]
  },
  {
   "cell_type": "code",
   "execution_count": null,
   "id": "53acdf93",
   "metadata": {},
   "outputs": [],
   "source": [
    "pipeline = Pipeline(help=True)"
   ]
  },
  {
   "cell_type": "markdown",
   "id": "5cc529c0",
   "metadata": {},
   "source": [
    "## Fitting Models\n",
    "\n",
    "There are two modes in this repo, `fit` and `validation`. In FIT mode, models are fitted to empirical data. In VALIDATION mode, parameter recovery or model recovery is performed, depending on the recovery parameter. We will begin by fitting several RL models to our empirical data. \n",
    "\n",
    "We will define a typical set of parameters for this package below, see the help information above to understand what each parameters does. Note that in this example, we extract our priors using the fixed_priors function. Note that here we will be using learning and transfer filenames `tutorial_learning_data.csv` and `tutorial_transfer_data.csv`, respectively, but the default filenames exported by the analysis repo are `pain_learning_processed.csv` and `pain_transfer_processed.csv`. Finally, it is highly recommended to use multiprocessing if possible as we are doing here (e.g., `multiprocessing=True`). Especially when you have a lot of participants, are running many models, and including many runs, this will take a very long time if you are not using multiprocessing. It will still take a good amount of time when using multiprocessing.\n",
    "\n",
    "A final note is that we are setting a seed when initializing the pipeline to ensure replicability because this repo does use randomization."
   ]
  },
  {
   "cell_type": "code",
   "execution_count": null,
   "id": "10943fed",
   "metadata": {},
   "outputs": [],
   "source": [
    "from helpers.priors import fixed_priors\n",
    "\n",
    "models = [\n",
    "    'QLearning+novel',\n",
    "    'ActorCritic+novel',\n",
    "    'Advantage+novel',\n",
    "]\n",
    "    \n",
    "fixed = fixed_priors(models)    \n",
    "fit_params = {\n",
    "    'mode':                       'fit',\n",
    "    'learning_filename':          'RL/data/tutorial_learning_data.csv',\n",
    "    'transfer_filename':          'RL/data/tutorial_transfer_data.csv',\n",
    "    'models':                     models,\n",
    "    'random_params':              'normal',\n",
    "    'fixed':                      fixed,\n",
    "    'multiprocessing':            True,\n",
    "}\n",
    "\n",
    "pipeline = Pipeline(seed=1251)\n",
    "pipeline.run(**fit_params)"
   ]
  },
  {
   "cell_type": "markdown",
   "id": "bcb01b7d",
   "metadata": {},
   "source": [
    "### Fitting Results\n",
    "\n",
    "Now that we have finished fitting the models to our data, we can look at a couple of plots to see the results. After the fitting procedure, a new folder is created `RL/modelling`. This folder contains all important results (statistics, plots, etc.). The intent of this folder is to move it to the analysis repo and that way you can add your modelling results to your PDF report. For this tutorial we will look at a couple of plots to see our results.\n",
    "\n",
    "Let's begin by viewing the BIC plot, which will tell us which model fit the data the best. Remember, the lower this value the better the data fit. "
   ]
  },
  {
   "cell_type": "code",
   "execution_count": null,
   "id": "a7087c3c",
   "metadata": {},
   "outputs": [],
   "source": [
    "from IPython.display import Image, display\n",
    "\n",
    "display(Image(filename='RL/modelling/BIC-model-comparisons.png'))\n",
    "\n",
    "caption = (\n",
    "    'Model selection using Bayesian information criterion (BIC).  Grand averaged BIC metrics for each model across all participants. '\n",
    "    'Lower values indicate better model fit. The black border indicates the best model.'\n",
    ")\n",
    "print(caption)"
   ]
  },
  {
   "cell_type": "markdown",
   "id": "a14b2bf8",
   "metadata": {},
   "source": [
    "We can also view the fits from the BIC table, which will also show us the best fits for each group."
   ]
  },
  {
   "cell_type": "code",
   "execution_count": null,
   "id": "17e0ccb5",
   "metadata": {},
   "outputs": [],
   "source": [
    "import pandas as pd\n",
    "\n",
    "BIC_fits = pd.read_csv('RL/modelling/group_BIC.csv')\n",
    "BIC_fits"
   ]
  },
  {
   "cell_type": "markdown",
   "id": "b9c4a9ca",
   "metadata": {},
   "source": [
    "The fitting procedure also runs model simulations using the fitted parameters of each participant. We can also view these simulation results. We will view the best models simulations."
   ]
  },
  {
   "cell_type": "code",
   "execution_count": null,
   "id": "082007d4",
   "metadata": {},
   "outputs": [],
   "source": [
    "best_model = BIC_fits['best_model'].values[-1]\n",
    "print(best_model)\n",
    "\n",
    "filename = f'RL/modelling/model_behaviours/{best_model}_model_behaviours.png'\n",
    "display(Image(filename, width=800, height=600))\n",
    "\n",
    "caption = (\n",
    "    'Posterior Predictive checks of the best-fitted computational model. '\n",
    "    'a. Learning Phase: Modelperformance across binned learning trials for the reward and punishment contexts for each group. '\n",
    "    'Shaded regions represent 95% confidence intervals. Blue and red diamonds indicate empirical means of participant accuracy. '\n",
    "    'b. Transfer Phase: Choice rates for each stimulus type during transfer trials for each group. '\n",
    "    'Choice rate is computed as the percentage of times a stimulus type was chosen, given the number of times it was presented. '\n",
    "    'Bar plots show the mean and 95% confidence intervals of the choice rate for each stimulus type across participants within each group. '\n",
    "    'Grey diamonds indicate empirical means of participant choice rates. '\n",
    "    'Abbreviations: HR – high reward rate (75% reward), LR – low reward rate (25% reward), LP – low punishment rate (25% loss), '\n",
    "    'HP – high punishment rate (75% loss), N - novel stimulus.'\n",
    ")\n",
    "print(caption)"
   ]
  },
  {
   "cell_type": "markdown",
   "id": "fbb634f0",
   "metadata": {},
   "source": [
    "Once we are happy with our chosen best model and it's behaviours, we can look at each of it's parameters and how they vary across groups. "
   ]
  },
  {
   "cell_type": "code",
   "execution_count": null,
   "id": "95431f23",
   "metadata": {},
   "outputs": [],
   "source": [
    "filename = f'RL/modelling/parameter_fits/{best_model}-model-fits.png'\n",
    "display(Image(filename, width=800, height=600))\n",
    "\n",
    "caption = (\n",
    "    'Group effects for all parameters. Fitted parameter values are displayed as a bar plot, ' \n",
    "    'showing the mean and 95% confidence intervals across participants for each group.'\n",
    ")\n",
    "print(caption)"
   ]
  },
  {
   "cell_type": "markdown",
   "id": "6bd65f95",
   "metadata": {},
   "source": [
    "Finally, this mode produces a `fit_data_FIT.pkl` file. This file is a dictionary where the keys are the model names and the values of each key is a dataframe of fitted values for each participant. "
   ]
  },
  {
   "cell_type": "code",
   "execution_count": null,
   "id": "8049bd63",
   "metadata": {},
   "outputs": [],
   "source": [
    "import pickle\n",
    "\n",
    "with open('RL/modelling/fit_data_FIT.pkl', 'rb') as f:\n",
    "    full_fit = pickle.load(f)\n",
    "\n",
    "print(\"Type of loaded object:\", type(full_fit))\n",
    "print(\"Top-level keys in the loaded fit data (model names):\", full_fit.keys())\n",
    "print(\"First 20 rows of the best fit data:\")\n",
    "best_fit = full_fit[best_model]\n",
    "best_fit.head(20)"
   ]
  },
  {
   "cell_type": "markdown",
   "id": "c5a0adf0",
   "metadata": {},
   "source": [
    "## Validating Models\n",
    "\n",
    "Next, we will be looking at how to validate your models. In practice, it is best to do this before the fitting procedure we have just outlined above. Model validation ensures that your model is functioning as intended and that the model parameters (e.g., the upper and lower bounds) are appropriate for your model. \n",
    "\n",
    "Using the validation mode requires a `recovery` parameter and this parameter indicates whether you are conducting `parameter` or `model` recovery. Parameter recovery is the process of generating data with known parameters for a given model, and then fitting that data with the same model to determine whether the parameters are recoverable. Model recovery is the process of generating data with known parameters for all given models. Each model is then fitted to all generated data (regardless of which model generated it) to test which model best fits data from every model. Ideally, the model that generated the data should be the best fit for the corresponding data.\n",
    "\n",
    "We will next define some typical parameters to use in these validations. We are also included an optional `bounds` parameter below. This parameter should be a nested dictionary where the highest level are model base names (i.e., without optional parameters such as `novel`) and the lowest level are parameter bounds to be overwritten. Bounds are used to constrain are parameters during fitting (and during generating data) in that the indicated parameters will not leave the bounds. Below, we are only constraining `temperature` for all models, because if this value is too large then the model converges towards responding randomly, and thus all other paramaters are ignored (thus unrecoverable). Any bounds that are not overwritten in this way will be determined by their defaults, which are declared in the `RLModel` class (`RL/models/rl_models.py`)."
   ]
  },
  {
   "cell_type": "code",
   "execution_count": null,
   "id": "b905b232",
   "metadata": {},
   "outputs": [],
   "source": [
    "from helpers.priors import fixed_priors\n",
    "\n",
    "models = [\n",
    "    'QLearning+novel',\n",
    "    'ActorCritic+novel',\n",
    "    'Advantage+novel',\n",
    "]\n",
    "\n",
    "fixed = fixed_priors(models)\n",
    "bounds = {\n",
    "    'QLearning':          {'temperature': (0.01, 0.20)},\n",
    "    'ActorCritic':        {'temperature': (0.01, 0.20)},\n",
    "    'Advantage':          {'temperature': (0.01, 0.20)},\n",
    "}\n",
    "\n",
    "params = {\n",
    "    'mode':                      'validation',\n",
    "    'learning_filename':         'RL/data/tutorial_learning_data.csv',\n",
    "    'transfer_filename':         'RL/data/tutorial_transfer_data.csv',\n",
    "    'models':                    models,\n",
    "    'random_params':             'random',\n",
    "    'fixed':                     fixed,\n",
    "    'bounds':                    bounds,\n",
    "    'multiprocessing':           True,\n",
    "}\n",
    "pipeline = Pipeline(seed=1251)"
   ]
  },
  {
   "cell_type": "markdown",
   "id": "971bf846",
   "metadata": {},
   "source": [
    "### Parameter Recovery\n",
    "\n",
    "Let's run the parameter recovery validation first. You'll see below that we directly insert the `recovery` parameter into the function, but we could have also included it within the params dictionary above. However, since we will be running the `run` method twice (once for `parameter` recovery and once for `model` recovery), across which all other parameters remain the same, it's just a bit cleaner to run this way. "
   ]
  },
  {
   "cell_type": "code",
   "execution_count": null,
   "id": "6e9f6989",
   "metadata": {},
   "outputs": [],
   "source": [
    "pipeline.run(recovery='parameter', **params)"
   ]
  },
  {
   "cell_type": "markdown",
   "id": "0dbc54e2",
   "metadata": {},
   "source": [
    "Parameter recovery provides us with a few files. Let's first visualize how well parameter recovery worked. We will be plotting a series of scatterplots, with the x axis as the true parameters and the y axis as the fitted parameters. Successful parameter recovery would be observed if all parameters showed a strong positive correlation between the true and fitted parameter values, which will be the case for a lot of our models. "
   ]
  },
  {
   "cell_type": "code",
   "execution_count": null,
   "id": "0558ab66",
   "metadata": {},
   "outputs": [],
   "source": [
    "from IPython.display import Image, display\n",
    "\n",
    "display(Image(filename='RL/modelling/correlations/recovery_correlation_plot.png', width=800, height=600))\n",
    "\n",
    "caption = (\n",
    "    'Parameter recovery results. Parameter recovery for each parameter within each model. '\n",
    "    'Data were generated for each model using randomly determined parameters (true values) and then fitted by that model (fit values) '\n",
    "    'to assess the model’s ability to recover parameters. Pearson r correlations for each parameter determines the degree to which the parameter was recoverable. '\n",
    "    'These values are presented in Supplementary Table [SUPP PARAM REC]. Grey dashed lines indicate a perfect recovery.'\n",
    ")\n",
    "print(caption)"
   ]
  },
  {
   "cell_type": "markdown",
   "id": "d83e5be9",
   "metadata": {},
   "source": [
    "The plot can give us a general idea of recovery success, but we should check the actual correlations for each model to make sure."
   ]
  },
  {
   "cell_type": "code",
   "execution_count": null,
   "id": "ed562ac3",
   "metadata": {},
   "outputs": [],
   "source": [
    "param_recovery_corrs = pd.read_csv('RL/modelling/param_recovery_corrs.csv')\n",
    "param_recovery_corrs"
   ]
  },
  {
   "cell_type": "markdown",
   "id": "ec65d4c2",
   "metadata": {},
   "source": [
    "Finally, this method also provides us with a `fit_data` file named `fit_data_PARAMETER.pkl`. This file is the same as we described above in the fitting procedure, but with the values fitted during the parameter recovery process."
   ]
  },
  {
   "cell_type": "code",
   "execution_count": null,
   "id": "e764a5e5",
   "metadata": {},
   "outputs": [],
   "source": [
    "import pickle\n",
    "\n",
    "with open('RL/modelling/fit_data_PARAMETER.pkl', 'rb') as f:\n",
    "    full_fit = pickle.load(f)\n",
    "\n",
    "print(\"Type of loaded object:\", type(full_fit))\n",
    "print(\"Top-level keys in the loaded fit data (model names):\", full_fit.keys())\n",
    "print(\"First 20 rows of the best fit data:\")\n",
    "best_fit = full_fit[best_model]\n",
    "best_fit.head(20)"
   ]
  },
  {
   "cell_type": "markdown",
   "id": "2d721946",
   "metadata": {},
   "source": [
    "### Model Recovery\n",
    "Once we are happy with parameter recovery, we can move on to model recovery. Model recovery involves every model generating data for all participants and then all models fitting all data generated. This is by far the lengthiest process of this repo. You'll note below that we again are directly providing the `recovery='model'` parameter, which again could have simply been added to our params dictionary if we preferred. You will also notice that we are setting `generate_data=False` here. Setting this to false means that new data will not be generated. Instead, the data generated when running `parameter` recovery will here be reused. We suggest following this procedure so that you only have one set of generated data for both validations. If we generate data here, the old files will be overwritten. "
   ]
  },
  {
   "cell_type": "code",
   "execution_count": null,
   "id": "0af5a5b2",
   "metadata": {},
   "outputs": [],
   "source": [
    "pipeline.run(recovery='model', **params, generate_data=False)"
   ]
  },
  {
   "cell_type": "markdown",
   "id": "8a9e98fd",
   "metadata": {},
   "source": [
    "Model recovery does not output too many results. The main result we are interested in is which model best fit each dataset (again the different datasets correspond to data generated by different models). A successful model recovery would demonstrate that each model best fit it's own generated data. We can view this in a confusion matrix below. The BIC values are used here, and they are normalized to range between -100 and 100. So, -100 was the worst fit across all analyses and 100 was the best fit across analyses."
   ]
  },
  {
   "cell_type": "code",
   "execution_count": null,
   "id": "d1e84726",
   "metadata": {},
   "outputs": [],
   "source": [
    "filename = f'RL/modelling/model_recovery.png'\n",
    "display(Image(filename, width=800, height=800))\n",
    "\n",
    "caption = (\n",
    "    'Model recovery results. Model recovery for each model using normalized BIC metrics. '\n",
    "    'Data were generated for each model using randomly determined parameters and then fitted by all models to assess each model’s '\n",
    "    'ability to fit the corresponding model’s data. BIC values are are normalized to the range of [0,1], scaled by 200, and then shifted by 100 to center around 0. ' \n",
    "    'A BIC of -100 indicates the best fit overall and a value of +100 indicates the worst fit overall. ' \n",
    "    'Within each column, one model fit is highlighted (bolded and bordered) indicating the best fitted model to explain the generated data. ' \n",
    "    'Successful model recovery is when the model best fits itself (as we see here). The values printed are the normalized BIC values.'\n",
    ")\n",
    "print(caption)"
   ]
  },
  {
   "cell_type": "markdown",
   "id": "fe3b49e2",
   "metadata": {},
   "source": [
    "Again, a `fit_data` file was built during this validation, `fit_data_MODEL.fit`, and we can look into that as well. Just like the other fit datasets, it is a dictionary with model names as keys and dataframes as values for those keys. The dataframes are slightly different than before, however, in that they now include a new column called `model`. This indicates which model generated the data being fit. You can think of this as the dictionary key being the model fitting the data and the model column in the dataframe as the model that generated the data when being fit."
   ]
  },
  {
   "cell_type": "code",
   "execution_count": null,
   "id": "a90068ad",
   "metadata": {},
   "outputs": [],
   "source": [
    "import pickle\n",
    "\n",
    "with open('RL/modelling/fit_data_MODEL.pkl', 'rb') as f:\n",
    "    full_fit = pickle.load(f)\n",
    "\n",
    "print(\"Type of loaded object:\", type(full_fit))\n",
    "print(\"Top-level keys in the loaded fit data (model names):\", full_fit.keys())\n",
    "print(\"First 10 rows of the best fit data:\")\n",
    "best_fit = full_fit[best_model]\n",
    "best_fit.head(10)"
   ]
  },
  {
   "cell_type": "markdown",
   "id": "0045b5ff",
   "metadata": {},
   "source": [
    "Let's also look at the tail of this dataframe to demonstrate that the `model` column includes all of the models."
   ]
  },
  {
   "cell_type": "code",
   "execution_count": null,
   "id": "bf9608c8",
   "metadata": {},
   "outputs": [],
   "source": [
    "print(best_fit['model'].unique())\n",
    "best_fit.tail(10)"
   ]
  },
  {
   "cell_type": "markdown",
   "id": "e764ba3d",
   "metadata": {},
   "source": [
    "That brings us to the end of this tutorial. Again, the next suggested step is to migrate the `RL/modelling` folder to the analysis repo under `AL/modelling` and re-run this repo to add modelling results to the PDF report. "
   ]
  }
 ],
 "metadata": {
  "kernelspec": {
   "display_name": "SOMA_AL",
   "language": "python",
   "name": "python3"
  },
  "language_info": {
   "codemirror_mode": {
    "name": "ipython",
    "version": 3
   },
   "file_extension": ".py",
   "mimetype": "text/x-python",
   "name": "python",
   "nbconvert_exporter": "python",
   "pygments_lexer": "ipython3",
   "version": "3.11.9"
  }
 },
 "nbformat": 4,
 "nbformat_minor": 5
}
